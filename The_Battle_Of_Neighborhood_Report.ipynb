{
 "cells": [
  {
   "cell_type": "markdown",
   "metadata": {},
   "source": [
    "# Capstone Project - The Battle of Neighborhoods\n",
    "## Report on Finding an optimized method for delivering fresh produce in the nearby restaurants/cafe in North York, Toronto"
   ]
  },
  {
   "cell_type": "markdown",
   "metadata": {},
   "source": [
    "### Problem Description and Background Discussion"
   ]
  },
  {
   "cell_type": "markdown",
   "metadata": {},
   "source": [
    "A farmer wants to expand its business in the local neighborhood and wants to deliver fresh produce everyday in the local areas of North York, Toronto. There should be timely delivery of fresh produce, veggies, bread, coffee etc. in order to successfully run the business. In order to achieve that, there should be some optimal method to deliver in every single restaurant/coffee shops/cafe nearby with no delay at all to any place. There are 10 delivery trucks available to use and all the areas to be covered. The best way would be to divide the potential merchants into segment based on their locations and address the mechanism seperately for each segment of merchants. This would allow the farmer to use all the resources in a efficient manner and hence help rum a successful business plan."
   ]
  },
  {
   "cell_type": "markdown",
   "metadata": {},
   "source": [
    "### Description of the Data and Method to use the data to solve the problem"
   ]
  },
  {
   "cell_type": "markdown",
   "metadata": {},
   "source": [
    "-> First thing first. We will need geological coordintes of the place that we are interested in setting up the business. So we will find the location coordinates of all the neighborhoods in North York, Torornto. the information about the postal code etc in Torornto is available at https://en.wikipedia.org/wiki/List_of_postal_codes_of_Canada:_M\n",
    "We will be using the geopy geocoders library and the data from the link in order to proceed with the project"
   ]
  },
  {
   "cell_type": "markdown",
   "metadata": {},
   "source": [
    "-> Secondly, the methodology to process the data would be clustering. We will create clusters of the restaurants/cafe's/baking places/coffee shops by taking information from FourSquare. We will be using venue information and their geological coordinates in order to move ahead with the clustering algorithm and find an optimal solution on how to deliver the produce in a more structured way."
   ]
  },
  {
   "cell_type": "markdown",
   "metadata": {},
   "source": [
    "#### The data we use looks like the DataFrame below. We have used North York, Toronto as our location."
   ]
  },
  {
   "cell_type": "code",
   "execution_count": 2,
   "metadata": {},
   "outputs": [],
   "source": [
    "import pandas as pd\n",
    "df = pd.read_csv('Northyork_Venues')\n",
    "df.drop(['Unnamed: 0'], axis = 1 , inplace = True)"
   ]
  },
  {
   "cell_type": "code",
   "execution_count": 3,
   "metadata": {},
   "outputs": [
    {
     "data": {
      "text/html": [
       "<div>\n",
       "<style scoped>\n",
       "    .dataframe tbody tr th:only-of-type {\n",
       "        vertical-align: middle;\n",
       "    }\n",
       "\n",
       "    .dataframe tbody tr th {\n",
       "        vertical-align: top;\n",
       "    }\n",
       "\n",
       "    .dataframe thead th {\n",
       "        text-align: right;\n",
       "    }\n",
       "</style>\n",
       "<table border=\"1\" class=\"dataframe\">\n",
       "  <thead>\n",
       "    <tr style=\"text-align: right;\">\n",
       "      <th></th>\n",
       "      <th>Postcode</th>\n",
       "      <th>Neighbourhood</th>\n",
       "      <th>Neighbourhood Latitude</th>\n",
       "      <th>Neighbourhood Longitude</th>\n",
       "      <th>Venue_id</th>\n",
       "      <th>Venue</th>\n",
       "      <th>Venue Category</th>\n",
       "      <th>Venue_lat</th>\n",
       "      <th>Venue_lng</th>\n",
       "    </tr>\n",
       "  </thead>\n",
       "  <tbody>\n",
       "    <tr>\n",
       "      <th>0</th>\n",
       "      <td>M2H</td>\n",
       "      <td>Hillcrest Village</td>\n",
       "      <td>43.803762</td>\n",
       "      <td>-79.363452</td>\n",
       "      <td>50c138e4e4b0276c8687f23c</td>\n",
       "      <td>고려삼계탕 Korean Ginseng Chicken Soup &amp; Bibimbap</td>\n",
       "      <td>Korean Restaurant</td>\n",
       "      <td>43.798391</td>\n",
       "      <td>-79.369187</td>\n",
       "    </tr>\n",
       "    <tr>\n",
       "      <th>1</th>\n",
       "      <td>M2H</td>\n",
       "      <td>Hillcrest Village</td>\n",
       "      <td>43.803762</td>\n",
       "      <td>-79.363452</td>\n",
       "      <td>4bd9842be914a593adbd56fa</td>\n",
       "      <td>Tastee</td>\n",
       "      <td>Bakery</td>\n",
       "      <td>43.807722</td>\n",
       "      <td>-79.356798</td>\n",
       "    </tr>\n",
       "    <tr>\n",
       "      <th>2</th>\n",
       "      <td>M2H</td>\n",
       "      <td>Hillcrest Village</td>\n",
       "      <td>43.803762</td>\n",
       "      <td>-79.363452</td>\n",
       "      <td>4ad88a4ff964a520251221e3</td>\n",
       "      <td>Tim Hortons</td>\n",
       "      <td>Coffee Shop</td>\n",
       "      <td>43.798945</td>\n",
       "      <td>-79.369644</td>\n",
       "    </tr>\n",
       "    <tr>\n",
       "      <th>3</th>\n",
       "      <td>M2H</td>\n",
       "      <td>Hillcrest Village</td>\n",
       "      <td>43.803762</td>\n",
       "      <td>-79.363452</td>\n",
       "      <td>4b2e6ff4f964a52022e024e3</td>\n",
       "      <td>Tim Hortons</td>\n",
       "      <td>Coffee Shop</td>\n",
       "      <td>43.811852</td>\n",
       "      <td>-79.359501</td>\n",
       "    </tr>\n",
       "    <tr>\n",
       "      <th>4</th>\n",
       "      <td>M2H</td>\n",
       "      <td>Hillcrest Village</td>\n",
       "      <td>43.803762</td>\n",
       "      <td>-79.363452</td>\n",
       "      <td>4dd44ae41f6ec4e0bb76d28e</td>\n",
       "      <td>New Greattime Corp.</td>\n",
       "      <td>Chinese Restaurant</td>\n",
       "      <td>43.807414</td>\n",
       "      <td>-79.356717</td>\n",
       "    </tr>\n",
       "    <tr>\n",
       "      <th>5</th>\n",
       "      <td>M2J</td>\n",
       "      <td>Oriole,Fairview,Henry Farm</td>\n",
       "      <td>43.778517</td>\n",
       "      <td>-79.346556</td>\n",
       "      <td>4bbaa0f17421a5937311c440</td>\n",
       "      <td>Michel's Baguette</td>\n",
       "      <td>Bakery</td>\n",
       "      <td>43.777082</td>\n",
       "      <td>-79.344557</td>\n",
       "    </tr>\n",
       "    <tr>\n",
       "      <th>6</th>\n",
       "      <td>M2J</td>\n",
       "      <td>Oriole,Fairview,Henry Farm</td>\n",
       "      <td>43.778517</td>\n",
       "      <td>-79.346556</td>\n",
       "      <td>4ae083d4f964a520d47f21e3</td>\n",
       "      <td>Moxie's Classic Grill</td>\n",
       "      <td>American Restaurant</td>\n",
       "      <td>43.777779</td>\n",
       "      <td>-79.343185</td>\n",
       "    </tr>\n",
       "    <tr>\n",
       "      <th>7</th>\n",
       "      <td>M2J</td>\n",
       "      <td>Oriole,Fairview,Henry Farm</td>\n",
       "      <td>43.778517</td>\n",
       "      <td>-79.346556</td>\n",
       "      <td>4af5ff72f964a520f6ff21e3</td>\n",
       "      <td>New York Fries</td>\n",
       "      <td>Fast Food Restaurant</td>\n",
       "      <td>43.778298</td>\n",
       "      <td>-79.343267</td>\n",
       "    </tr>\n",
       "    <tr>\n",
       "      <th>8</th>\n",
       "      <td>M2J</td>\n",
       "      <td>Oriole,Fairview,Henry Farm</td>\n",
       "      <td>43.778517</td>\n",
       "      <td>-79.346556</td>\n",
       "      <td>50bceb3ae4b01dc9b287cc99</td>\n",
       "      <td>Aroma Espresso Bar</td>\n",
       "      <td>Coffee Shop</td>\n",
       "      <td>43.777700</td>\n",
       "      <td>-79.344652</td>\n",
       "    </tr>\n",
       "    <tr>\n",
       "      <th>9</th>\n",
       "      <td>M2J</td>\n",
       "      <td>Oriole,Fairview,Henry Farm</td>\n",
       "      <td>43.778517</td>\n",
       "      <td>-79.346556</td>\n",
       "      <td>4c129019a5eb76b01b69beb7</td>\n",
       "      <td>Mr Jerk</td>\n",
       "      <td>Caribbean Restaurant</td>\n",
       "      <td>43.785932</td>\n",
       "      <td>-79.352842</td>\n",
       "    </tr>\n",
       "  </tbody>\n",
       "</table>\n",
       "</div>"
      ],
      "text/plain": [
       "  Postcode               Neighbourhood  Neighbourhood Latitude  \\\n",
       "0      M2H           Hillcrest Village               43.803762   \n",
       "1      M2H           Hillcrest Village               43.803762   \n",
       "2      M2H           Hillcrest Village               43.803762   \n",
       "3      M2H           Hillcrest Village               43.803762   \n",
       "4      M2H           Hillcrest Village               43.803762   \n",
       "5      M2J  Oriole,Fairview,Henry Farm               43.778517   \n",
       "6      M2J  Oriole,Fairview,Henry Farm               43.778517   \n",
       "7      M2J  Oriole,Fairview,Henry Farm               43.778517   \n",
       "8      M2J  Oriole,Fairview,Henry Farm               43.778517   \n",
       "9      M2J  Oriole,Fairview,Henry Farm               43.778517   \n",
       "\n",
       "   Neighbourhood Longitude                  Venue_id  \\\n",
       "0               -79.363452  50c138e4e4b0276c8687f23c   \n",
       "1               -79.363452  4bd9842be914a593adbd56fa   \n",
       "2               -79.363452  4ad88a4ff964a520251221e3   \n",
       "3               -79.363452  4b2e6ff4f964a52022e024e3   \n",
       "4               -79.363452  4dd44ae41f6ec4e0bb76d28e   \n",
       "5               -79.346556  4bbaa0f17421a5937311c440   \n",
       "6               -79.346556  4ae083d4f964a520d47f21e3   \n",
       "7               -79.346556  4af5ff72f964a520f6ff21e3   \n",
       "8               -79.346556  50bceb3ae4b01dc9b287cc99   \n",
       "9               -79.346556  4c129019a5eb76b01b69beb7   \n",
       "\n",
       "                                          Venue        Venue Category  \\\n",
       "0  고려삼계탕 Korean Ginseng Chicken Soup & Bibimbap     Korean Restaurant   \n",
       "1                                        Tastee                Bakery   \n",
       "2                                   Tim Hortons           Coffee Shop   \n",
       "3                                   Tim Hortons           Coffee Shop   \n",
       "4                           New Greattime Corp.    Chinese Restaurant   \n",
       "5                             Michel's Baguette                Bakery   \n",
       "6                         Moxie's Classic Grill   American Restaurant   \n",
       "7                                New York Fries  Fast Food Restaurant   \n",
       "8                            Aroma Espresso Bar           Coffee Shop   \n",
       "9                                       Mr Jerk  Caribbean Restaurant   \n",
       "\n",
       "   Venue_lat  Venue_lng  \n",
       "0  43.798391 -79.369187  \n",
       "1  43.807722 -79.356798  \n",
       "2  43.798945 -79.369644  \n",
       "3  43.811852 -79.359501  \n",
       "4  43.807414 -79.356717  \n",
       "5  43.777082 -79.344557  \n",
       "6  43.777779 -79.343185  \n",
       "7  43.778298 -79.343267  \n",
       "8  43.777700 -79.344652  \n",
       "9  43.785932 -79.352842  "
      ]
     },
     "execution_count": 3,
     "metadata": {},
     "output_type": "execute_result"
    }
   ],
   "source": [
    "df.head(10)"
   ]
  },
  {
   "cell_type": "markdown",
   "metadata": {},
   "source": [
    "### Methodology"
   ]
  },
  {
   "cell_type": "markdown",
   "metadata": {},
   "source": [
    "The machine learning methodology that we used here is K-Means Clustering. Our objective was to find the best possible value of K, which basically signifies the number of delivery trucks that the farmer will use to optimally deliver the products across the neigborhood. Silhoutte Coefficient is used as quality metric and the best K is selected based on the value of the coefficient.\n",
    "\n",
    "Silhoutte Coefficient is calculated using the mean Intra-Cluster Distance and the mean nearest cluster distance for each sample. It ranges from -1 (worst value) to 1 (best value). Values below zero signifies wrong cluster assignment and positive values signifies best possible scenarios. \n",
    "\n",
    "Data Visualization is performed using folium library and we have used chart and map to show the results for selecting the best possible value of K."
   ]
  },
  {
   "cell_type": "markdown",
   "metadata": {},
   "source": [
    "### Results"
   ]
  },
  {
   "cell_type": "markdown",
   "metadata": {},
   "source": [
    "#### FourSquare\n",
    "\n",
    "There were total of 609 venues across 156 merchant categories (restaurants/cafe/grocery etc). we have selected categories namely: Coffe shops, Restaurants, Bakery, Grocery Stores.\n",
    "\n",
    "Finally, the dataset contained 246 venues across 33 venue/merchant categories."
   ]
  },
  {
   "cell_type": "markdown",
   "metadata": {},
   "source": [
    "Selecting the best value of K. The best value of K is selected using the following Coefficient values based on K-Means Clustering\n",
    "\n",
    "* For n_clusters=2, The Silhouette Coefficient is 0.4875255595737943\n",
    "2. For n_clusters=3, The Silhouette Coefficient is 0.5522426220381165\n",
    "3. For n_clusters=4, The Silhouette Coefficient is 0.5784311363159121\n",
    "4. For n_clusters=5, The Silhouette Coefficient is 0.5600758485822365\n",
    "5. For n_clusters=6, The Silhouette Coefficient is 0.5570218436348096\n",
    "6. For n_clusters=7, The Silhouette Coefficient is 0.5571911121063303\n",
    "7. For n_clusters=8, The Silhouette Coefficient is 0.5611390621951564\n",
    "8. For n_clusters=9, The Silhouette Coefficient is 0.5491361690640616\n",
    "9. For n_clusters=10, The Silhouette Coefficient is 0.5556615997604348\n"
   ]
  },
  {
   "cell_type": "markdown",
   "metadata": {},
   "source": [
    "### Discussion and Conclusion"
   ]
  },
  {
   "cell_type": "markdown",
   "metadata": {},
   "source": [
    "The techniques and analysis used in the project shows that the optimal way for the farmer to use the delivery trucks in order to cover every interested venue and deliver the produce efficiently can be performed using the clustering method. The efficient number of clusters lies between K = 4 to K = 6. Here, we have suggested K = 4 as the cluster number in order to perform the task in an optimal way which means there will be 4 delivery trucks in total to be used for delivery. "
   ]
  }
 ],
 "metadata": {
  "kernelspec": {
   "display_name": "Python 3",
   "language": "python",
   "name": "python3"
  },
  "language_info": {
   "codemirror_mode": {
    "name": "ipython",
    "version": 3
   },
   "file_extension": ".py",
   "mimetype": "text/x-python",
   "name": "python",
   "nbconvert_exporter": "python",
   "pygments_lexer": "ipython3",
   "version": "3.7.1"
  }
 },
 "nbformat": 4,
 "nbformat_minor": 2
}

{
 "cells": [
  {
   "cell_type": "markdown",
   "metadata": {},
   "source": [
    "# Capstone Project - The Battle of Neighborhoods\n",
    "## Finding an optimized method for delivering fresh produce in the nearby restaurants/cafe in North York, Toronto"
   ]
  },
  {
   "cell_type": "markdown",
   "metadata": {},
   "source": [
    "### Problem Description and Background Discussion"
   ]
  },
  {
   "cell_type": "markdown",
   "metadata": {},
   "source": [
    "A farmer wants to expand its business in the local neighborhood and wants to deliver fresh produce everyday in the local areas of North York, Toronto. There should be timely delivery of fresh produce, veggies, bread, coffee etc. in order to successfully run the business. In order to achieve that, there should be some optimal method to deliver in every single restaurant/coffee shops/cafe nearby with no delay at all to any place. There are 10 delivery trucks available to use and all the areas to be covered. The best way would be to divide the potential merchants into segment based on their locations and address the mechanism seperately for each segment of merchants. This would allow the farmer to use all the resources in a efficient manner and hence help rum a successfull business plan."
   ]
  },
  {
   "cell_type": "markdown",
   "metadata": {},
   "source": [
    "### Description of the Data and Method to use the data to solve the problem"
   ]
  },
  {
   "cell_type": "markdown",
   "metadata": {},
   "source": [
    "-> First thing first. We will need geological coordintes of the place that we are interested in setting up the business. So we will find the location coordinates of all the neighborhoods in North York, Torornto. the information about the postal code etc in Torornto is available at https://en.wikipedia.org/wiki/List_of_postal_codes_of_Canada:_M\n",
    "We will be using the geopy geocoders library and the data from the link in order to proceed with the project"
   ]
  },
  {
   "cell_type": "markdown",
   "metadata": {},
   "source": [
    "-> Secondly, the methodology to process the data would be clustering. We will create clusters of the restaurants/cafe's/baking places/coffee shops by taking information from FourSquare. We will be using venue information and their geological coordinates in order to move ahead with the clustering algorithm and find an optimal solution on how to deliver the produce in a more structured way."
   ]
  }
 ],
 "metadata": {
  "kernelspec": {
   "display_name": "Python 3",
   "language": "python",
   "name": "python3"
  },
  "language_info": {
   "codemirror_mode": {
    "name": "ipython",
    "version": 3
   },
   "file_extension": ".py",
   "mimetype": "text/x-python",
   "name": "python",
   "nbconvert_exporter": "python",
   "pygments_lexer": "ipython3",
   "version": "3.7.1"
  }
 },
 "nbformat": 4,
 "nbformat_minor": 2
}
